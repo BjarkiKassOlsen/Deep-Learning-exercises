{
  "nbformat": 4,
  "nbformat_minor": 0,
  "metadata": {
    "kernelspec": {
      "display_name": "Python 3",
      "language": "python",
      "name": "python3"
    },
    "language_info": {
      "codemirror_mode": {
        "name": "ipython",
        "version": 3
      },
      "file_extension": ".py",
      "mimetype": "text/x-python",
      "name": "python",
      "nbconvert_exporter": "python",
      "pygments_lexer": "ipython3",
      "version": "3.8.10"
    },
    "colab": {
      "provenance": [],
      "include_colab_link": true
    },
    "widgets": {
      "application/vnd.jupyter.widget-state+json": {
        "cabd5b8bb4034f478b8d9ddd0902ca96": {
          "model_module": "@jupyter-widgets/controls",
          "model_name": "HBoxModel",
          "model_module_version": "1.5.0",
          "state": {
            "_dom_classes": [],
            "_model_module": "@jupyter-widgets/controls",
            "_model_module_version": "1.5.0",
            "_model_name": "HBoxModel",
            "_view_count": null,
            "_view_module": "@jupyter-widgets/controls",
            "_view_module_version": "1.5.0",
            "_view_name": "HBoxView",
            "box_style": "",
            "children": [
              "IPY_MODEL_ed69abe35dca4f888910b97b70b1405c",
              "IPY_MODEL_1459f90b0cdc42a481a83a172643ee6d",
              "IPY_MODEL_d65ae0d0b61b4280b1a551d3fb57c467"
            ],
            "layout": "IPY_MODEL_37a22dd648834bc391ea1af836082f14"
          }
        },
        "ed69abe35dca4f888910b97b70b1405c": {
          "model_module": "@jupyter-widgets/controls",
          "model_name": "HTMLModel",
          "model_module_version": "1.5.0",
          "state": {
            "_dom_classes": [],
            "_model_module": "@jupyter-widgets/controls",
            "_model_module_version": "1.5.0",
            "_model_name": "HTMLModel",
            "_view_count": null,
            "_view_module": "@jupyter-widgets/controls",
            "_view_module_version": "1.5.0",
            "_view_name": "HTMLView",
            "description": "",
            "description_tooltip": null,
            "layout": "IPY_MODEL_43852cc25e5b4f9ea69a690232c9e810",
            "placeholder": "​",
            "style": "IPY_MODEL_f46c4f35424445c7a8b2f8e207adca72",
            "value": "100%"
          }
        },
        "1459f90b0cdc42a481a83a172643ee6d": {
          "model_module": "@jupyter-widgets/controls",
          "model_name": "FloatProgressModel",
          "model_module_version": "1.5.0",
          "state": {
            "_dom_classes": [],
            "_model_module": "@jupyter-widgets/controls",
            "_model_module_version": "1.5.0",
            "_model_name": "FloatProgressModel",
            "_view_count": null,
            "_view_module": "@jupyter-widgets/controls",
            "_view_module_version": "1.5.0",
            "_view_name": "ProgressView",
            "bar_style": "success",
            "description": "",
            "description_tooltip": null,
            "layout": "IPY_MODEL_14033a4f3a204bf58a6dfbd59c339911",
            "max": 170498071,
            "min": 0,
            "orientation": "horizontal",
            "style": "IPY_MODEL_be2a6c2fbac34c218f77ff869419f1f0",
            "value": 170498071
          }
        },
        "d65ae0d0b61b4280b1a551d3fb57c467": {
          "model_module": "@jupyter-widgets/controls",
          "model_name": "HTMLModel",
          "model_module_version": "1.5.0",
          "state": {
            "_dom_classes": [],
            "_model_module": "@jupyter-widgets/controls",
            "_model_module_version": "1.5.0",
            "_model_name": "HTMLModel",
            "_view_count": null,
            "_view_module": "@jupyter-widgets/controls",
            "_view_module_version": "1.5.0",
            "_view_name": "HTMLView",
            "description": "",
            "description_tooltip": null,
            "layout": "IPY_MODEL_88cb0159d40c49409e8bf3d2c0f15072",
            "placeholder": "​",
            "style": "IPY_MODEL_8edad073ec52444eb7f9e703febc5a99",
            "value": " 170498071/170498071 [00:02&lt;00:00, 82012621.86it/s]"
          }
        },
        "37a22dd648834bc391ea1af836082f14": {
          "model_module": "@jupyter-widgets/base",
          "model_name": "LayoutModel",
          "model_module_version": "1.2.0",
          "state": {
            "_model_module": "@jupyter-widgets/base",
            "_model_module_version": "1.2.0",
            "_model_name": "LayoutModel",
            "_view_count": null,
            "_view_module": "@jupyter-widgets/base",
            "_view_module_version": "1.2.0",
            "_view_name": "LayoutView",
            "align_content": null,
            "align_items": null,
            "align_self": null,
            "border": null,
            "bottom": null,
            "display": null,
            "flex": null,
            "flex_flow": null,
            "grid_area": null,
            "grid_auto_columns": null,
            "grid_auto_flow": null,
            "grid_auto_rows": null,
            "grid_column": null,
            "grid_gap": null,
            "grid_row": null,
            "grid_template_areas": null,
            "grid_template_columns": null,
            "grid_template_rows": null,
            "height": null,
            "justify_content": null,
            "justify_items": null,
            "left": null,
            "margin": null,
            "max_height": null,
            "max_width": null,
            "min_height": null,
            "min_width": null,
            "object_fit": null,
            "object_position": null,
            "order": null,
            "overflow": null,
            "overflow_x": null,
            "overflow_y": null,
            "padding": null,
            "right": null,
            "top": null,
            "visibility": null,
            "width": null
          }
        },
        "43852cc25e5b4f9ea69a690232c9e810": {
          "model_module": "@jupyter-widgets/base",
          "model_name": "LayoutModel",
          "model_module_version": "1.2.0",
          "state": {
            "_model_module": "@jupyter-widgets/base",
            "_model_module_version": "1.2.0",
            "_model_name": "LayoutModel",
            "_view_count": null,
            "_view_module": "@jupyter-widgets/base",
            "_view_module_version": "1.2.0",
            "_view_name": "LayoutView",
            "align_content": null,
            "align_items": null,
            "align_self": null,
            "border": null,
            "bottom": null,
            "display": null,
            "flex": null,
            "flex_flow": null,
            "grid_area": null,
            "grid_auto_columns": null,
            "grid_auto_flow": null,
            "grid_auto_rows": null,
            "grid_column": null,
            "grid_gap": null,
            "grid_row": null,
            "grid_template_areas": null,
            "grid_template_columns": null,
            "grid_template_rows": null,
            "height": null,
            "justify_content": null,
            "justify_items": null,
            "left": null,
            "margin": null,
            "max_height": null,
            "max_width": null,
            "min_height": null,
            "min_width": null,
            "object_fit": null,
            "object_position": null,
            "order": null,
            "overflow": null,
            "overflow_x": null,
            "overflow_y": null,
            "padding": null,
            "right": null,
            "top": null,
            "visibility": null,
            "width": null
          }
        },
        "f46c4f35424445c7a8b2f8e207adca72": {
          "model_module": "@jupyter-widgets/controls",
          "model_name": "DescriptionStyleModel",
          "model_module_version": "1.5.0",
          "state": {
            "_model_module": "@jupyter-widgets/controls",
            "_model_module_version": "1.5.0",
            "_model_name": "DescriptionStyleModel",
            "_view_count": null,
            "_view_module": "@jupyter-widgets/base",
            "_view_module_version": "1.2.0",
            "_view_name": "StyleView",
            "description_width": ""
          }
        },
        "14033a4f3a204bf58a6dfbd59c339911": {
          "model_module": "@jupyter-widgets/base",
          "model_name": "LayoutModel",
          "model_module_version": "1.2.0",
          "state": {
            "_model_module": "@jupyter-widgets/base",
            "_model_module_version": "1.2.0",
            "_model_name": "LayoutModel",
            "_view_count": null,
            "_view_module": "@jupyter-widgets/base",
            "_view_module_version": "1.2.0",
            "_view_name": "LayoutView",
            "align_content": null,
            "align_items": null,
            "align_self": null,
            "border": null,
            "bottom": null,
            "display": null,
            "flex": null,
            "flex_flow": null,
            "grid_area": null,
            "grid_auto_columns": null,
            "grid_auto_flow": null,
            "grid_auto_rows": null,
            "grid_column": null,
            "grid_gap": null,
            "grid_row": null,
            "grid_template_areas": null,
            "grid_template_columns": null,
            "grid_template_rows": null,
            "height": null,
            "justify_content": null,
            "justify_items": null,
            "left": null,
            "margin": null,
            "max_height": null,
            "max_width": null,
            "min_height": null,
            "min_width": null,
            "object_fit": null,
            "object_position": null,
            "order": null,
            "overflow": null,
            "overflow_x": null,
            "overflow_y": null,
            "padding": null,
            "right": null,
            "top": null,
            "visibility": null,
            "width": null
          }
        },
        "be2a6c2fbac34c218f77ff869419f1f0": {
          "model_module": "@jupyter-widgets/controls",
          "model_name": "ProgressStyleModel",
          "model_module_version": "1.5.0",
          "state": {
            "_model_module": "@jupyter-widgets/controls",
            "_model_module_version": "1.5.0",
            "_model_name": "ProgressStyleModel",
            "_view_count": null,
            "_view_module": "@jupyter-widgets/base",
            "_view_module_version": "1.2.0",
            "_view_name": "StyleView",
            "bar_color": null,
            "description_width": ""
          }
        },
        "88cb0159d40c49409e8bf3d2c0f15072": {
          "model_module": "@jupyter-widgets/base",
          "model_name": "LayoutModel",
          "model_module_version": "1.2.0",
          "state": {
            "_model_module": "@jupyter-widgets/base",
            "_model_module_version": "1.2.0",
            "_model_name": "LayoutModel",
            "_view_count": null,
            "_view_module": "@jupyter-widgets/base",
            "_view_module_version": "1.2.0",
            "_view_name": "LayoutView",
            "align_content": null,
            "align_items": null,
            "align_self": null,
            "border": null,
            "bottom": null,
            "display": null,
            "flex": null,
            "flex_flow": null,
            "grid_area": null,
            "grid_auto_columns": null,
            "grid_auto_flow": null,
            "grid_auto_rows": null,
            "grid_column": null,
            "grid_gap": null,
            "grid_row": null,
            "grid_template_areas": null,
            "grid_template_columns": null,
            "grid_template_rows": null,
            "height": null,
            "justify_content": null,
            "justify_items": null,
            "left": null,
            "margin": null,
            "max_height": null,
            "max_width": null,
            "min_height": null,
            "min_width": null,
            "object_fit": null,
            "object_position": null,
            "order": null,
            "overflow": null,
            "overflow_x": null,
            "overflow_y": null,
            "padding": null,
            "right": null,
            "top": null,
            "visibility": null,
            "width": null
          }
        },
        "8edad073ec52444eb7f9e703febc5a99": {
          "model_module": "@jupyter-widgets/controls",
          "model_name": "DescriptionStyleModel",
          "model_module_version": "1.5.0",
          "state": {
            "_model_module": "@jupyter-widgets/controls",
            "_model_module_version": "1.5.0",
            "_model_name": "DescriptionStyleModel",
            "_view_count": null,
            "_view_module": "@jupyter-widgets/base",
            "_view_module_version": "1.2.0",
            "_view_name": "StyleView",
            "description_width": ""
          }
        }
      }
    }
  },
  "cells": [
    {
      "cell_type": "markdown",
      "metadata": {
        "id": "view-in-github",
        "colab_type": "text"
      },
      "source": [
        "<a href=\"https://colab.research.google.com/github/BjarkiKassOlsen/Deep-Learning-exercises/blob/main/CNN_Introduction.ipynb\" target=\"_parent\"><img src=\"https://colab.research.google.com/assets/colab-badge.svg\" alt=\"Open In Colab\"/></a>"
      ]
    },
    {
      "cell_type": "markdown",
      "metadata": {
        "id": "4mGL-C5--oU7"
      },
      "source": [
        "### Credits: Exercises are made with inspiration from the [DTU-deep-learning](https://github.com/DeepLearningDTU/02456-deep-learning-with-PyTorch/blob/master/4_Convolutional/4.1-CNN-Introduction.ipynb) and [PyTorch Tutorials](https://pytorch.org/tutorials/).\n",
        "\n",
        "\n",
        "---\n",
        "\n"
      ]
    },
    {
      "cell_type": "markdown",
      "metadata": {
        "id": "ZXF54leN-oVA"
      },
      "source": [
        "# Introduction to Convolutional Neural Networks\n",
        "\n",
        "This exercise will introduce Convolutional Neural Networks in Pytorch. An important part of the exercise is to read and understand the PyTorch syntax and how, e.g., training loops are structured.\n",
        "You also have to implement your own CNN for classification :-)"
      ]
    },
    {
      "cell_type": "code",
      "metadata": {
        "id": "oPxLUQ4M-oVC",
        "colab": {
          "base_uri": "https://localhost:8080/",
          "height": 153,
          "referenced_widgets": [
            "cabd5b8bb4034f478b8d9ddd0902ca96",
            "ed69abe35dca4f888910b97b70b1405c",
            "1459f90b0cdc42a481a83a172643ee6d",
            "d65ae0d0b61b4280b1a551d3fb57c467",
            "37a22dd648834bc391ea1af836082f14",
            "43852cc25e5b4f9ea69a690232c9e810",
            "f46c4f35424445c7a8b2f8e207adca72",
            "14033a4f3a204bf58a6dfbd59c339911",
            "be2a6c2fbac34c218f77ff869419f1f0",
            "88cb0159d40c49409e8bf3d2c0f15072",
            "8edad073ec52444eb7f9e703febc5a99"
          ]
        },
        "outputId": "8728452f-3e2b-4833-f8ff-ed9e9f3ec52b"
      },
      "source": [
        "# Later in the exercise, you will have to download the CIFAR-10 data-set. It might take a while,\n",
        "# so it would be a good idea to run this cell to start downloading the data already now.\n",
        "import torchvision\n",
        "torchvision.datasets.CIFAR10(root='./data', download=True)"
      ],
      "execution_count": null,
      "outputs": [
        {
          "output_type": "stream",
          "name": "stdout",
          "text": [
            "Downloading https://www.cs.toronto.edu/~kriz/cifar-10-python.tar.gz to ./data/cifar-10-python.tar.gz\n"
          ]
        },
        {
          "output_type": "display_data",
          "data": {
            "text/plain": [
              "  0%|          | 0/170498071 [00:00<?, ?it/s]"
            ],
            "application/vnd.jupyter.widget-view+json": {
              "version_major": 2,
              "version_minor": 0,
              "model_id": "cabd5b8bb4034f478b8d9ddd0902ca96"
            }
          },
          "metadata": {}
        },
        {
          "output_type": "stream",
          "name": "stdout",
          "text": [
            "Extracting ./data/cifar-10-python.tar.gz to ./data\n"
          ]
        },
        {
          "output_type": "execute_result",
          "data": {
            "text/plain": [
              "Dataset CIFAR10\n",
              "    Number of datapoints: 50000\n",
              "    Root location: ./data\n",
              "    Split: Train"
            ]
          },
          "metadata": {},
          "execution_count": 6
        }
      ]
    },
    {
      "cell_type": "markdown",
      "metadata": {
        "id": "v_vvOrtz-oVF"
      },
      "source": [
        "# Exercise 1:\n",
        "\n",
        "### Exercise 1.1: Convolve manually\n",
        "\n",
        "Perform the following calculations by hand, and write the result below. You decide if you want to make a convolution or correlation.\n",
        "\n",
        "\n",
        "<img src=\"https://nextcloud.theailab.dk/s/fCF7XZktJDwYA4C/download/inputKernel.jpg\" alt=\"Kernel\" style=\"width:300px;\"/>\n",
        "\n",
        "\n",
        "1. Manually convolve the input with the kernel, and write down the result. Use no padding and stride of 1.\n",
        "1. Perform $2\\times2$ max pooling on the output of the convolution. Use a stride of 2.\n",
        "\n",
        "**Answer:**\n",
        "\n",
        "\\begin{array}{|c|c|}\n",
        "\\hline\n",
        "     ~ & ~ \\\\\\hline\n",
        "     ~ & ~ \\\\\\hline\n",
        "\\end{array}\n",
        "\n",
        "\n",
        "\n",
        "### Exercise 1.2: Calculate output sizes of convolution output\n",
        "\n",
        "In the following list, you will be given a 3D tensor and some filters. Based on their sizes, calculate the size of the output (if valid). We will use PyTorch notation of dimensions. This means that dimensions are given as channel-first. I.e.: `(channel, height, width)`.\n",
        "\n",
        "The size of the 3D tensor input is givens as `(channel, height, width)`.\n",
        "A number `(channels_out)` of filters, have a size of `(channels_in, filter_height, filter_width)`, stride `(height, width)` and padding `(height, width)`.\n",
        "\n",
        "\n",
        "1. input tensor with dimensionality (1, 28, 28) and 16 filters of size (1, 5, 5) with stride (1, 1) and padding (0, 0)\n",
        "\n",
        "    **Answer:**\n",
        "\n",
        "2. input tensor with dimensionality (3, 32, 32) and 24 filters of size (3, 3, 3) with stride (1, 1) and padding (0, 0)\n",
        "\n",
        "    **Answer:**\n",
        "\n",
        "3. input tensor with dimensionality (40, 32, 32) and 3 filters of size (40, 2, 2) with stride (2, 2) and padding (0, 0)\n",
        "\n",
        "     **Answer:**\n",
        "\n",
        "4. input tensor with dimensionality (11, 8, 16) and 7 filters of size (11, 3, 3) with stride (2, 2) and padding (1, 1)\n",
        "\n",
        "    **Answer:**\n",
        "\n",
        "5. input tensor with dimensionality (128, 256, 256) and 112 filters of size (128, 3, 3) with stride (1, 1) and padding (1, 1)\n",
        "\n",
        "    **Answer:**\n",
        ""
      ]
    },
    {
      "cell_type": "markdown",
      "source": [
        "### Exercise 1.3: Associative property of convolution\n",
        "Assume that we have two convolution kernels of size k1 and k2, respectively (with no nonlinearity in-between). The kernels are applied one after the other. Note that to prove associativity you will have to use convolution with the \"full\" padding scheme, not \"valid\" or \"same\". As a practical matter, use the definition of 2d convolution from the slides.:\n",
        "  1. Prove that the result of the operation can be expressed by a single convolution.\n",
        "  2. What is the dimensionality of the equivalent single convolution?\n",
        "  3. Is the converse true, i.e., can you always decompose a convolution into two smaller ones?"
      ],
      "metadata": {
        "id": "OFeuPZ8gVRKd"
      }
    },
    {
      "cell_type": "markdown",
      "metadata": {
        "id": "UiQQ0PHa-oVG"
      },
      "source": [
        "# Exercise 2: Creating a convolutional neural network\n",
        "\n",
        "In this exercise, we will once again train a network to recognize MNIST digits.\n",
        "First, we will set up the data and the network. Please spend some time reading and understanding the code. Problems are defined at the buttom of the section."
      ]
    },
    {
      "cell_type": "code",
      "metadata": {
        "id": "ksx-o9Bn-oVH"
      },
      "source": [
        "import numpy as np\n",
        "import matplotlib.pyplot as plt\n",
        "import random\n",
        "%matplotlib inline"
      ],
      "execution_count": null,
      "outputs": []
    },
    {
      "cell_type": "markdown",
      "metadata": {
        "id": "NJGldiK9-oVJ"
      },
      "source": [
        "## Data: MNIST\n",
        "\n",
        "This code prepares MNIST and sets dimensions to `(num_samples, num_channels, height, width)`, as PyTorch expects."
      ]
    },
    {
      "cell_type": "code",
      "metadata": {
        "id": "Fs6AVjOb-oVK"
      },
      "source": [
        "from mlxtend.data import mnist_data\n",
        "X, y = mnist_data()\n",
        "X = (X/255.0).astype(np.float32) # Convert to interval 0:1\n",
        "y = y.astype(np.float32)\n",
        "num_classes = 10\n",
        "nchannels, rows, cols = 1, 28, 28\n",
        "\n",
        "X = np.expand_dims(X.reshape(len(X),rows,cols),1) # Add a channel-dimension"
      ],
      "execution_count": null,
      "outputs": []
    },
    {
      "cell_type": "markdown",
      "metadata": {
        "id": "5KGH9fKi-oVK"
      },
      "source": [
        "Split data in train, validation, and test"
      ]
    },
    {
      "cell_type": "code",
      "metadata": {
        "id": "LIhbTUDx-oVM"
      },
      "source": [
        "def splitdata(X, y, Ngroups, weights=None):\n",
        "    '''\n",
        "    X, y = input data and labels\n",
        "    Ngroups = number of groups to split data into\n",
        "    weights = a list with Ngroups weights, that tell the probability of a sample ending in either of the data sets\n",
        "    '''\n",
        "    if weights is None:\n",
        "        weights = [1/Ngroups]*Ngroups\n",
        "\n",
        "    groups = np.array(random.choices(list(range(Ngroups)), weights=weights, cum_weights=None, k=len(X)))\n",
        "    return ((X[np.where(groups==g)], y[np.where(groups==g)]) for g in np.array(range(Ngroups)))\n",
        "\n",
        "(x_train, targets_train), (x_valid, targets_valid), (x_test, targets_test) = splitdata(X, y, Ngroups=3, weights=[0.8, 0.1, 0.1])"
      ],
      "execution_count": null,
      "outputs": []
    },
    {
      "cell_type": "markdown",
      "metadata": {
        "id": "_MxC0x7l-oVN"
      },
      "source": [
        "## Let's plot some samples from the training set."
      ]
    },
    {
      "cell_type": "code",
      "metadata": {
        "id": "Ek-ps6hd-oVN",
        "colab": {
          "base_uri": "https://localhost:8080/",
          "height": 97
        },
        "outputId": "c8e84397-4951-443c-d81e-c4f2dd2458a1"
      },
      "source": [
        "from mpl_toolkits.axes_grid1 import ImageGrid\n",
        "\n",
        "fig = plt.figure()\n",
        "nrows_ncols=(1, 6)\n",
        "grid = ImageGrid(fig, 111,  # similar to subplot(111)\n",
        "                 nrows_ncols=nrows_ncols,  # creates 2x2 grid of axes\n",
        "                 axes_pad=0.1,  # pad between axes in inch.\n",
        "                 )\n",
        "\n",
        "for ax, idx in zip(grid, np.random.randint(low=0, high=len(x_train), size=np.prod(nrows_ncols))):\n",
        "    # Iterating over the grid returns the Axes.\n",
        "    ax.imshow(X[idx].reshape(28,28), cmap='gray')\n",
        "    ax.set_title(str(int(y[idx])))\n",
        "    ax.set_axis_off()"
      ],
      "execution_count": null,
      "outputs": [
        {
          "output_type": "display_data",
          "data": {
            "text/plain": [
              "<Figure size 432x288 with 12 Axes>"
            ],
            "image/png": "[encoded data removed]"
          },
          "metadata": {
            "needs_background": "light"
          }
        }
      ]
    },
    {
      "cell_type": "markdown",
      "metadata": {
        "id": "sEBMGM1m-oVO"
      },
      "source": [
        "# Define a simple feed forward neural network without convolutions"
      ]
    },
    {
      "cell_type": "code",
      "metadata": {
        "id": "un5Ba6Zk-oVO"
      },
      "source": [
        "import torch\n",
        "from torch.nn.parameter import Parameter\n",
        "import torch.nn as nn\n",
        "import torch.nn.functional as F\n",
        "import torch.optim as optim\n",
        "import torch.nn.init as init\n",
        "\n",
        "from torch.nn import Linear, Conv2d, BatchNorm2d, MaxPool2d, Dropout2d\n",
        "from torch.nn.functional import relu, elu, relu6, sigmoid, tanh, softmax"
      ],
      "execution_count": null,
      "outputs": []
    },
    {
      "cell_type": "markdown",
      "metadata": {
        "id": "GR3mhgQH-oVP"
      },
      "source": [
        "We'll use the nn.Module class to define our network. It will help us create clearer and more compact code by encapsulating the network in a class. It also helps us, if we want to save our trained weights and load them again.\n",
        "\n",
        "Everything that contains weights, which you want to be trained during the training process should be defined in your \\_\\_init\\_\\_ method.\n",
        "\n",
        "You can read more about the nn.Module class here:\n",
        "https://pytorch.org/tutorials/beginner/nn_tutorial.html"
      ]
    },
    {
      "cell_type": "code",
      "metadata": {
        "id": "83PT-55d-oVP",
        "colab": {
          "base_uri": "https://localhost:8080/"
        },
        "outputId": "788e63cb-2b20-4657-94ec-69b6e6a2b390"
      },
      "source": [
        "# hyperameters of the model\n",
        "num_classes = 10\n",
        "channels = x_train.shape[1]\n",
        "height = x_train.shape[2]\n",
        "width = x_train.shape[3]\n",
        "\n",
        "\n",
        "# define network\n",
        "class NeuralNetwork(nn.Module):\n",
        "    def __init__(self):\n",
        "        super(NeuralNetwork, self).__init__()\n",
        "        # YOUR CODE BEGINS HERE\n",
        "        # Define the needed Conv-layer(s)\n",
        "        # YOUR CODE ENDS HERE\n",
        "        self.flatten = nn.Flatten()\n",
        "        self.FC1 = nn.Linear(height*width, 512)\n",
        "        self.FC2 = nn.Linear(512, num_classes)\n",
        "\n",
        "\n",
        "    def forward(self, x):\n",
        "        # YOUR CODE BEGINS HERE\n",
        "        # Define your network architecture\n",
        "        x = self.flatten(x)\n",
        "        x = self.FC1(x)\n",
        "        x = F.relu(x)\n",
        "        x = self.FC2(x)\n",
        "        # YOUR CODE ENDS HERE\n",
        "        return x\n",
        "\n",
        "net = NeuralNetwork()\n",
        "print(net)"
      ],
      "execution_count": null,
      "outputs": [
        {
          "output_type": "stream",
          "name": "stdout",
          "text": [
            "NeuralNetwork(\n",
            "  (flatten): Flatten(start_dim=1, end_dim=-1)\n",
            "  (FC1): Linear(in_features=784, out_features=512, bias=True)\n",
            "  (FC2): Linear(in_features=512, out_features=10, bias=True)\n",
            ")\n"
          ]
        }
      ]
    },
    {
      "cell_type": "markdown",
      "metadata": {
        "id": "Ogb2gRsS-oVQ"
      },
      "source": [
        "## Setting up loss function and optimizer"
      ]
    },
    {
      "cell_type": "code",
      "metadata": {
        "id": "s3mx6HDq-oVQ"
      },
      "source": [
        "criterion = nn.CrossEntropyLoss()\n",
        "optimizer = optim.SGD(net.parameters(), lr=0.001)"
      ],
      "execution_count": null,
      "outputs": []
    },
    {
      "cell_type": "markdown",
      "metadata": {
        "id": "aaRph9wS-oVR"
      },
      "source": [
        "We can test our architecture by forwarding random data through it"
      ]
    },
    {
      "cell_type": "code",
      "metadata": {
        "id": "hwXMO0wP-oVR",
        "colab": {
          "base_uri": "https://localhost:8080/"
        },
        "outputId": "78bfc39d-5103-4393-ed4b-9ae2a9890986"
      },
      "source": [
        "x = np.random.randn(3, 1, 28, 28).astype('float32')\n",
        "out = net(torch.from_numpy(x))\n",
        "print('Output shape:', out.shape)\n",
        "print('Output tensor:')\n",
        "out"
      ],
      "execution_count": null,
      "outputs": [
        {
          "output_type": "stream",
          "name": "stdout",
          "text": [
            "Output shape: torch.Size([3, 10])\n",
            "Output tensor:\n"
          ]
        },
        {
          "output_type": "execute_result",
          "data": {
            "text/plain": [
              "tensor([[ 0.2004, -0.2001, -0.5549, -0.1490, -0.2508,  0.0076, -0.0328, -0.1649,\n",
              "         -0.2913, -0.1815],\n",
              "        [ 0.1183,  0.1130, -0.3719, -0.1407, -0.1147, -0.3124,  0.0741, -0.4440,\n",
              "         -0.1631,  0.0259],\n",
              "        [-0.2614, -0.3147,  0.0698, -0.2728, -0.3836,  0.0988, -0.4390,  0.2528,\n",
              "         -0.0838, -0.1290]], grad_fn=<AddmmBackward0>)"
            ]
          },
          "metadata": {},
          "execution_count": 14
        }
      ]
    },
    {
      "cell_type": "markdown",
      "metadata": {
        "id": "TP7XGBSh-oVR"
      },
      "source": [
        "Notice how the default weight initialization distributes the output scores nicely between the classes."
      ]
    },
    {
      "cell_type": "markdown",
      "metadata": {
        "id": "mUTo1QMC-oVS"
      },
      "source": [
        "## Now we set up the training loop.\n",
        "Notice that we don't use dataloaders, since writing the training loop manually gives a better understanding of what is going on.\n",
        "Please spend some time going through the following code-block line-by-line"
      ]
    },
    {
      "cell_type": "code",
      "metadata": {
        "id": "IXDRwyqY-oVS",
        "colab": {
          "base_uri": "https://localhost:8080/"
        },
        "outputId": "d6c966b9-bf46-4270-f49e-b8d2b1bb16ac"
      },
      "source": [
        "batch_size = 100\n",
        "num_epochs = 100\n",
        "num_samples_train = x_train.shape[0]\n",
        "num_batches_train = num_samples_train // batch_size\n",
        "num_samples_valid = x_valid.shape[0]\n",
        "num_batches_valid = num_samples_valid // batch_size\n",
        "\n",
        "train_acc, train_loss = [], []\n",
        "valid_acc, valid_loss = [], []\n",
        "test_acc, test_loss = [], []\n",
        "cur_loss = 0\n",
        "losses = []\n",
        "\n",
        "def get_slice(i, size):\n",
        "    return range(i * size, (i + 1) * size)\n",
        "\n",
        "def accuracy_score(targets, predictions):\n",
        "    return 1.0*np.sum((np.array(targets) == np.array(predictions)))/len(targets)\n",
        "\n",
        "\n",
        "\n",
        "# This function iterates through all batches of a dataset, X_data and returns predictions and matching targets\n",
        "def evaluateLoop(X_data, targets, num_batches):\n",
        "    allTargets, allPredictions = [], []\n",
        "\n",
        "    #Iterate through the batches\n",
        "    for i in range(num_batches):\n",
        "        slce = get_slice(i, batch_size)\n",
        "        x_batch = torch.from_numpy(X_data[slce])\n",
        "\n",
        "        output = net(x_batch)\n",
        "        predictions = torch.max(output, 1)[1]\n",
        "\n",
        "        allTargets += list(targets[slce])\n",
        "        allPredictions += list(predictions.data.numpy())\n",
        "\n",
        "    return allTargets, allPredictions\n",
        "\n",
        "\n",
        "for epoch in range(num_epochs):\n",
        "\n",
        "    ## Train\n",
        "    cur_loss = 0\n",
        "    net.train()\n",
        "\n",
        "    for i in range(num_batches_train):\n",
        "        slce = get_slice(i, batch_size)\n",
        "        x_batch = torch.from_numpy(x_train[slce])\n",
        "        output = net(x_batch) # Forward pass\n",
        "\n",
        "        # compute gradients given loss\n",
        "        target_batch = torch.from_numpy(targets_train[slce]).long()\n",
        "        batch_loss = criterion(output, target_batch) # Calculate loss\n",
        "        optimizer.zero_grad() # Reset gradients\n",
        "        batch_loss.backward() # Backprobagation\n",
        "        optimizer.step() # Update parameters\n",
        "\n",
        "        cur_loss += batch_loss\n",
        "    losses.append(cur_loss / batch_size)\n",
        "\n",
        "    net.eval()\n",
        "\n",
        "    ### Evaluate training data\n",
        "    train_targs, train_preds = evaluateLoop(X_data=x_train, targets=targets_train, num_batches=num_batches_train)\n",
        "\n",
        "\n",
        "    ### Evaluate validation fata\n",
        "    val_targs, val_preds = evaluateLoop(X_data=x_valid, targets=targets_valid, num_batches=num_batches_valid)\n",
        "\n",
        "\n",
        "    #Calculate accuracies\n",
        "    train_acc_cur = accuracy_score(train_targs, train_preds)\n",
        "    valid_acc_cur = accuracy_score(val_targs, val_preds)\n",
        "\n",
        "    train_acc.append(train_acc_cur)\n",
        "    valid_acc.append(valid_acc_cur)\n",
        "\n",
        "    #Plot output\n",
        "    if epoch % 10 == 0:\n",
        "        print(\"Epoch %2i : Train Loss %f , Train acc %f, Valid acc %f\" % (\n",
        "                epoch+1, losses[-1], train_acc_cur, valid_acc_cur))\n",
        "\n",
        "### Evaluate test set\n",
        "x_batch = torch.from_numpy(x_test)\n",
        "output = net(x_batch)\n",
        "preds = torch.max(output, 1)[1]\n",
        "print(\"\\nTest set Acc:  %f\" % (accuracy_score(list(targets_test), list(preds.data.numpy()))))"
      ],
      "execution_count": null,
      "outputs": [
        {
          "output_type": "stream",
          "name": "stdout",
          "text": [
            "Epoch  1 : Train Loss 0.892300 , Train acc 0.204872, Valid acc 0.228000\n",
            "Epoch 11 : Train Loss 0.857149 , Train acc 0.555385, Valid acc 0.584000\n",
            "Epoch 21 : Train Loss 0.820198 , Train acc 0.637949, Valid acc 0.686000\n",
            "Epoch 31 : Train Loss 0.778540 , Train acc 0.676667, Valid acc 0.742000\n",
            "Epoch 41 : Train Loss 0.731433 , Train acc 0.708974, Valid acc 0.772000\n",
            "Epoch 51 : Train Loss 0.679796 , Train acc 0.732821, Valid acc 0.790000\n",
            "Epoch 61 : Train Loss 0.625856 , Train acc 0.750000, Valid acc 0.804000\n",
            "Epoch 71 : Train Loss 0.572494 , Train acc 0.762564, Valid acc 0.816000\n",
            "Epoch 81 : Train Loss 0.522327 , Train acc 0.778462, Valid acc 0.820000\n",
            "Epoch 91 : Train Loss 0.477038 , Train acc 0.794103, Valid acc 0.834000\n",
            "\n",
            "Test set Acc:  0.816367\n"
          ]
        }
      ]
    },
    {
      "cell_type": "code",
      "metadata": {
        "id": "CpMEMbNk-oVS"
      },
      "source": [
        "# Plot training and validation accuracies vs. epochs\n",
        "epoch = range(len(train_acc))\n",
        "plt.figure()\n",
        "plt.plot(epoch, train_acc, 'r', epoch, valid_acc, 'b')\n",
        "plt.legend(['Train Accuracy', 'Val Accuracy'])\n",
        "plt.xlabel('Epochs')\n",
        "plt.ylabel('Accuracy')\n",
        "plt.show()"
      ],
      "execution_count": null,
      "outputs": []
    },
    {
      "cell_type": "markdown",
      "metadata": {
        "id": "SHPVvGiA-oVT"
      },
      "source": [
        "**Exercise**\n",
        "\n",
        "1. Replace the first fully connected layer with a 2D convolution layer and adjust the input size of the remaining fully connected layer so that it fits the new input. Does the performance change?\n",
        "(try num_filters=16 and filter_size=5 as a starting point).\n",
        "You can define a conv-layers using the following code:\n",
        "\n",
        "```\n",
        "self.conv1 = nn.Conv2d(in_channels=<in_channels>, out_channels=<out_channels>, kernel_size=<kernel_size>)\n",
        "```\n",
        "\n",
        "2. After the convolution layer, the size of the input is reduced by `(heigh-1,width-1)` pixels, where `(height,width)` is the filter size. This limits the number of convolutional layers that can be stacked.\n",
        "Try adding adequate padding to the convolutional layer to retain the spatial dimensions.\n",
        "\n",
        "3. Try adding more convolution layers and see if you can increase the performance.\n",
        "\n",
        "4. Increasing the number of convolutions also increases the number of calculations. Try adding a $2\\times 2$ max-pool layer after your convolution to decrease the size of the feature-map, while keeping the important features.\n",
        "\n",
        "    You can define a pooling layer using the following code:\n",
        "\n",
        "```\n",
        "self.pool = nn.MaxPool2d(kernel_size=<kernel_size>, stride=<stride>)\n",
        "```\n",
        "\n",
        "5. Try experimenting with more convolutional layers and pooling layers and see how it influences the performance.\n",
        "\n",
        "\n",
        "  <pre>\n",
        "\n",
        "\n",
        "\n",
        "\n",
        "\n",
        "\n",
        "</pre>"
      ]
    },
    {
      "cell_type": "markdown",
      "metadata": {
        "id": "Aihme2io-oVT"
      },
      "source": [
        "# Let's try using RGB images\n",
        "## Data: CIFAR-10\n",
        "\n",
        "The CIFAR-10 dataset (Canadian Institute For Advanced Research) is a collection of images that are commonly used to train machine learning and computer vision algorithms.\n",
        "You can see it as a \"Color-MNIST\" dataset.\n",
        "\n",
        "The CIFAR-10 dataset contains 60,000 32x32 color images in 10 different classes. The 10 different classes represent airplanes, cars, birds, cats, deer, dogs, frogs, horses, ships, and trucks. There are 6,000 images of each class. (https://en.wikipedia.org/wiki/CIFAR-10)\n",
        "\n",
        "The following code will set up a dataloader that processes images and create mini-batches"
      ]
    },
    {
      "cell_type": "code",
      "metadata": {
        "id": "fqTzwYxW-oVT",
        "colab": {
          "base_uri": "https://localhost:8080/"
        },
        "outputId": "287c1fd1-511b-4ba5-9217-015f86ae178e"
      },
      "source": [
        "# Load CIFAR-10 and set-up dataloaders. PyTorch has helper-functions for downloading the dataset the first time it is used.\n",
        "import torch\n",
        "import torchvision\n",
        "import torchvision.transforms as transforms\n",
        "\n",
        "# Transforms are common image transformations, that can be stacked and used for preprocessing images.\n",
        "# Here, our preprocessing consists of converting the data to torch tensors and normalizing the data\n",
        "# with 0.5 mean and 0.5 std. diviation for all three channels\n",
        "transform = transforms.Compose(\n",
        "    [transforms.ToTensor(),\n",
        "     transforms.Normalize((0.5, 0.5, 0.5), (0.5, 0.5, 0.5))])\n",
        "\n",
        "batch_size = 4\n",
        "\n",
        "\n",
        "# Set up the training set. The data-set helper function already implemented a data-split\n",
        "trainset = torchvision.datasets.CIFAR10(root='./data', train=True,\n",
        "                                        download=True, transform=transform)\n",
        "trainloader = torch.utils.data.DataLoader(trainset, batch_size=batch_size,\n",
        "                                          shuffle=True, num_workers=2)\n",
        "\n",
        "# Set up the test set. The data-set helper function already implemented a data-split\n",
        "testset = torchvision.datasets.CIFAR10(root='./data', train=False,\n",
        "                                       download=True, transform=transform)\n",
        "testloader = torch.utils.data.DataLoader(testset, batch_size=batch_size,\n",
        "                                         shuffle=False, num_workers=2)\n",
        "\n",
        "# The CIFAR-10 Classes\n",
        "classes = ('plane', 'car', 'bird', 'cat', 'deer', 'dog', 'frog', 'horse', 'ship', 'truck')"
      ],
      "execution_count": null,
      "outputs": [
        {
          "output_type": "stream",
          "name": "stdout",
          "text": [
            "Files already downloaded and verified\n",
            "Files already downloaded and verified\n"
          ]
        }
      ]
    },
    {
      "cell_type": "markdown",
      "metadata": {
        "id": "F4dwgjMq-oVU"
      },
      "source": [
        "## Data visalization\n",
        "Let's visualize some of the images from CIFAR-10"
      ]
    },
    {
      "cell_type": "code",
      "metadata": {
        "id": "05iVZnJg-oVU",
        "colab": {
          "base_uri": "https://localhost:8080/",
          "height": 155
        },
        "outputId": "46e43535-c981-42da-b290-3176a840dabc"
      },
      "source": [
        "import matplotlib.pyplot as plt\n",
        "import numpy as np\n",
        "\n",
        "# functions to show an image\n",
        "def imshow(img):\n",
        "    img = img / 2 + 0.5     # unnormalize\n",
        "    npimg = img.numpy()\n",
        "    plt.imshow(np.transpose(npimg, (1, 2, 0)))\n",
        "    plt.show()\n",
        "\n",
        "\n",
        "# get some random training images\n",
        "dataiter = iter(trainloader)\n",
        "images, labels = dataiter.next()\n",
        "\n",
        "# show images\n",
        "imshow(torchvision.utils.make_grid(images))\n",
        "# print labels\n",
        "print(' '.join('%5s' % classes[labels[j]] for j in range(batch_size)))"
      ],
      "execution_count": null,
      "outputs": [
        {
          "output_type": "display_data",
          "data": {
            "text/plain": [
              "<Figure size 432x288 with 1 Axes>"
            ],
            "image/png": "[encoded data removed]"
          },
          "metadata": {
            "needs_background": "light"
          }
        },
        {
          "output_type": "stream",
          "name": "stdout",
          "text": [
            "  cat  ship plane  ship\n"
          ]
        }
      ]
    },
    {
      "cell_type": "markdown",
      "metadata": {
        "id": "urQ4RtDY-oVV"
      },
      "source": [
        "## Exercise 2.1: Define a simple neural network\n",
        "\n",
        "\n",
        "\n",
        "__Exercise__: Define a convolutional neural network. Start out with a small network and test that everything is working. Then start adding more layers. Remember that the output should be a vector with 10 indices.\n",
        "Try adding both conv-layers, pooling layers, fully-connected layers and activations\n",
        "\n",
        "A reasonable architecture could be:\n",
        "\n",
        "| Layer type   | size    | Output channels  | Stride |\n",
        "|--------------|---------|------------------|--------|\n",
        "| conv         | 5x5     | 6                | 1      |\n",
        "| pool         | 2x2     |                  | 2      |\n",
        "| conv         | 5x5     | 16               | 1      |\n",
        "| fully connected   |      | 120               |       |\n",
        "| fully connected   |      | 184               |       |\n",
        "| fully connected   |      | 10               |       |\n",
        "\n",
        "\n",
        "\n",
        "You can define a conv-layers and pooling layers using the following code:\n",
        "\n",
        "```\n",
        "self.conv1 = nn.Conv2d(in_channels=<in_channels>, out_channels=<out_channels>, kernel_size=<kernel_size>)\n",
        "self.pool = nn.MaxPool2d(kernel_size=<kernel_size>, stride=<stride>)\n",
        "```\n",
        "\n",
        "https://pytorch.org/docs/stable/generated/torch.nn.Conv2d.html\n",
        "\n",
        "https://pytorch.org/docs/stable/generated/torch.nn.MaxPool2d.html\n"
      ]
    },
    {
      "cell_type": "code",
      "metadata": {
        "id": "wTKe-6nW-oVV"
      },
      "source": [
        "import torch.nn as nn\n",
        "import torch.nn.functional as F\n",
        "\n",
        "\n",
        "class Net(nn.Module):\n",
        "    def __init__(self):\n",
        "        super().__init__()\n",
        "\n",
        "        ## YOUR CODE GOES HERE ##\n",
        "\n",
        "    def forward(self, x):\n",
        "\n",
        "        ## YOUR CODE GOES HERE ##\n",
        "\n",
        "        return x\n",
        "\n",
        "\n",
        "net = Net()"
      ],
      "execution_count": null,
      "outputs": []
    },
    {
      "cell_type": "markdown",
      "metadata": {
        "id": "zrBCQQd5-oVW"
      },
      "source": [
        "## Defining a loss-function\n",
        "\n",
        "Let’s use a Classification Cross-Entropy loss and SGD with momentum.\n",
        "Our labels are one-hot encoded, which means that for each image, we have a target vector with 10 entries (one for each class).\n",
        "This target vector contains only zeros except for the entry of the class to which the image belongs.\n",
        "\n",
        "\\begin{equation}\n",
        "H(y,\\hat y) = -\\sum_j y_j \\cdot log(\\hat y_j)\n",
        "\\end{equation}\n",
        "\n",
        "where\n",
        "\n",
        "$j=(1,2,...,n_{classes})$ and $\\hat y=\\begin{cases}\n",
        "      1 & j=\\text{true class}\\\\\n",
        "      0 & \\text{otherwise}\n",
        "    \\end{cases}     $\n"
      ]
    },
    {
      "cell_type": "code",
      "metadata": {
        "id": "Ei54jAWZ-oVW"
      },
      "source": [
        "import torch.optim as optim\n",
        "\n",
        "criterion = nn.CrossEntropyLoss()\n",
        "optimizer = optim.SGD(net.parameters(), lr=0.001, momentum=0.9) # Let's use stocastic gradient descent (We will talk about momentum next week)"
      ],
      "execution_count": null,
      "outputs": []
    },
    {
      "cell_type": "markdown",
      "metadata": {
        "id": "36KRYYot-oVW"
      },
      "source": [
        "## Train the network\n",
        "\n",
        "This is when things start to get interesting. We simply have to loop over our data iterator, and feed the inputs to the network and optimize."
      ]
    },
    {
      "cell_type": "code",
      "metadata": {
        "id": "DFDqoZL6-oVW"
      },
      "source": [
        "nEpocs = 2 # How many times should we run over the data set?\n",
        "\n",
        "for epoch in range(nEpocs):  # loop over the dataset multiple times\n",
        "\n",
        "    running_loss = 0.0\n",
        "    for i, data in enumerate(trainloader, 0):\n",
        "        # get the inputs; data is a list of [inputs, labels]\n",
        "        inputs, labels = data\n",
        "\n",
        "        # zero the parameter gradients\n",
        "        optimizer.zero_grad()\n",
        "\n",
        "        # forward + backward + optimize\n",
        "        outputs = net(inputs)\n",
        "        loss = criterion(outputs, labels)\n",
        "        loss.backward()\n",
        "        optimizer.step()\n",
        "\n",
        "        # print statistics\n",
        "        running_loss += loss.item()\n",
        "        if i % 2000 == 1999:    # print every 2000 mini-batches\n",
        "            print('Epoch %d, iteration %5d, Train loss: %.3f' %\n",
        "                  (epoch + 1, i + 1, running_loss / 2000))\n",
        "\n",
        "            running_loss = 0.0\n",
        "\n",
        "print('Finished Training')"
      ],
      "execution_count": null,
      "outputs": []
    },
    {
      "cell_type": "markdown",
      "metadata": {
        "id": "JMU5zZ0F-oVX"
      },
      "source": [
        "## Save the models"
      ]
    },
    {
      "cell_type": "code",
      "metadata": {
        "id": "4W6G9Ti8-oVX"
      },
      "source": [
        "MODEL_PATH = './cifar_net.pth'\n",
        "torch.save(net.state_dict(), MODEL_PATH)"
      ],
      "execution_count": null,
      "outputs": []
    },
    {
      "cell_type": "markdown",
      "metadata": {
        "id": "2QOJ6ZnD-oVX"
      },
      "source": [
        "## Test the network on the test data\n",
        "\n",
        "We have trained the network for 2 passes over the training dataset. But we need to check if the network has learnt anything at all.\n",
        "\n",
        "We will check this by predicting the class label that the neural network outputs, and checking it against the ground-truth. If the prediction is correct, we add the sample to the list of correct predictions.\n",
        "\n",
        "Okay, first step. Let us display an image from the test set to get familiar."
      ]
    },
    {
      "cell_type": "code",
      "metadata": {
        "id": "9zCLxjeG-oVX"
      },
      "source": [
        "dataiter = iter(testloader)\n",
        "images, labels = dataiter.next()\n",
        "\n",
        "# print images\n",
        "imshow(torchvision.utils.make_grid(images))\n",
        "print('GroundTruth: ', ' '.join('%5s' % classes[labels[j]] for j in range(4)))"
      ],
      "execution_count": null,
      "outputs": []
    },
    {
      "cell_type": "markdown",
      "metadata": {
        "id": "j6MYS7hB-oVY"
      },
      "source": [
        "## Loading the model\n",
        "\n",
        "Let's load the model, we just saved. Since the weights are already set, we don't need this step, but in the future, you can skip the training pass, and just load the weights, you just trained. This is also used when doing _transfer learning_, which will be covered in a future lecture"
      ]
    },
    {
      "cell_type": "code",
      "metadata": {
        "id": "I4BxnfOw-oVY"
      },
      "source": [
        "net = Net()\n",
        "net.load_state_dict(torch.load(MODEL_PATH))"
      ],
      "execution_count": null,
      "outputs": []
    },
    {
      "cell_type": "markdown",
      "metadata": {
        "id": "EJW1Gh27-oVY"
      },
      "source": [
        "## Test the model\n",
        "Let's classify the images, we just displayed above:"
      ]
    },
    {
      "cell_type": "code",
      "metadata": {
        "id": "5naZyD2E-oVZ"
      },
      "source": [
        "outputs = net(images)"
      ],
      "execution_count": null,
      "outputs": []
    },
    {
      "cell_type": "markdown",
      "metadata": {
        "id": "rMlKt9Vu-oVZ"
      },
      "source": [
        "The output of the network is the raw scores for the 10 classes. In the current network, these scores are unbounded. The higher the score for a class, the more the network thinks that the image is of the particular class. So, let’s get the index of the highest score."
      ]
    },
    {
      "cell_type": "code",
      "metadata": {
        "id": "XHX7i37e-oVa"
      },
      "source": [
        "_, predicted = torch.max(outputs, 1)\n",
        "\n",
        "print('Predicted: ', ' '.join('%5s' % classes[predicted[j]]\n",
        "                              for j in range(4)))"
      ],
      "execution_count": null,
      "outputs": []
    },
    {
      "cell_type": "markdown",
      "metadata": {
        "id": "O3HFAgiZ-oVa"
      },
      "source": [
        "## How was the results?\n",
        "Let's iterate through all the test images and see the performance"
      ]
    },
    {
      "cell_type": "code",
      "metadata": {
        "id": "CORiH6Am-oVa"
      },
      "source": [
        "correct = 0\n",
        "total = 0\n",
        "# since we're not training, we don't need to calculate the gradients for our outputs\n",
        "with torch.no_grad():\n",
        "    for data in testloader:\n",
        "        images, labels = data\n",
        "        # calculate outputs by running images through the network\n",
        "        outputs = net(images)\n",
        "        # the class with the highest energy is what we choose as prediction\n",
        "        _, predicted = torch.max(outputs.data, 1)\n",
        "        total += labels.size(0)\n",
        "        correct += (predicted == labels).sum().item()\n",
        "\n",
        "print('Accuracy of the network on the 10000 test images: %d %%' % (\n",
        "    100 * correct / total))\n"
      ],
      "execution_count": null,
      "outputs": []
    },
    {
      "cell_type": "markdown",
      "metadata": {
        "id": "mZDulHIf-oVb"
      },
      "source": [
        "# Global average pooling\n",
        "\n",
        "Recall that global average pooling takes a `(height x width x channels_in)` volume and reduces it to a `channels_in`-dimensional vector by averaging the `height x width` values of each channel.\n",
        "\n",
        "Thus, we can replace the flatten layer and the first fully connected layer with a `(1 x 1 x channels_out)` convolution, followed by a global average pooling layer.\n",
        "The cool thing about global average pooling is that it works for all input sizes. If you consider the\n",
        "\n",
        "**Exercise**\n",
        "Your task is to replace your flatten layer and first final fully connected layer with global average pooling. In PyTorch, this is called\n",
        "`nn.AdaptiveAvgPool2d`\n",
        "https://pytorch.org/docs/stable/generated/torch.nn.AdaptiveAvgPool2d.html\n",
        "\n",
        "The output of `AdaptiveAvgPool` is still a 3D volume `(1 x 1 x channels_out)`, so you have to reshape it. You can use `x = torch.flatten(x, 1)` after `AdaptiveAvgPool` to convert the output to a 1D vector for each sample.\n",
        "\n",
        "Now try inputting an image larger than 32x32 pixels.\n",
        "\n",
        "You can input your own image using this code:\n",
        "\n",
        "```\n",
        "im = imageio.imread('horse.jpg').astype(np.float32)\n",
        "im = torch.from_numpy(im).permute(2,0,1).unsqueeze(0)\n",
        "\n",
        "transform = transforms.Compose(\n",
        "    [transforms.Resize((32,32)),\n",
        "     transforms.Normalize((0.5, 0.5, 0.5), (0.5, 0.5, 0.5))])\n",
        "\n",
        "im = transform(im)\n",
        "output = net(im)\n",
        "print(classes[np.argmax(output.detach().numpy())])\n",
        "```\n",
        "\n",
        "**Question** The network can only handle input images down to a certain shape (height/width).\n",
        "\n",
        " 1. Why?\n",
        " 1. What is the smallest input width/height your model can handle?\n",
        "\n",
        "\n"
      ]
    },
    {
      "cell_type": "markdown",
      "metadata": {
        "id": "9muknP8r-oVc"
      },
      "source": [
        "# EXTRA: Train on the GPU\n",
        "\n",
        "If you have a CUDA-enabled computer you can try training the network on the GPU to see a great speed-up. You have to move your network and your variables to the GPU's memory, which you can do by adding the following lines to your code:\n",
        "```\n",
        "device = torch.device(\"cuda:0\" if torch.cuda.is_available() else \"cpu\")\n",
        "net.to(device)\n",
        "```\n",
        "\n",
        "Remember that you will have to send the inputs and targets at every step to the GPU too:\n",
        "```\n",
        "inputs.to(device)\n",
        "labels.to(device)\n",
        "```\n",
        "\n",
        "When pulling data from the GPU, use the following commands:\n",
        "```\n",
        "myVar.cpu().detach().numpy()\n",
        "```"
      ]
    },
    {
      "cell_type": "markdown",
      "metadata": {
        "id": "xFX8ovCX-oVc"
      },
      "source": [
        "# EXTRA: Use your own data\n",
        "Try training a network on your own classes, e.g., cats and dogs. You can use the following library to scrape images from google image search.\n",
        "https://pypi.org/project/simple-image-download/\n",
        "\n",
        "A good starting point is to use the `ImageFolder` dataset, which lets you define an image dataset as folders with names that indicate labels.\n",
        "https://pytorch.org/tutorials/beginner/data_loading_tutorial.html\n",
        "\n",
        "You might also have to modify the `transformer`, which preprocesses the images. So far we have only used it to normalize images and convert them to tensors, but it can also be used to resize images (and much more):\n",
        "```\n",
        "transform = transforms.Compose(\n",
        "    [transforms.ToTensor(),\n",
        "     transforms.Resize((32,32)),\n",
        "     transforms.Normalize((0.5, 0.5, 0.5), (0.5, 0.5, 0.5))]).\n",
        "```"
      ]
    },
    {
      "cell_type": "code",
      "metadata": {
        "id": "3zzuBOhh-oVd"
      },
      "source": [],
      "execution_count": null,
      "outputs": []
    }
  ]
}